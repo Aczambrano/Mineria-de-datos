{
 "cells": [
  {
   "cell_type": "markdown",
   "id": "ce0bf31c",
   "metadata": {},
   "source": [
    "# **Libraries**"
   ]
  },
  {
   "cell_type": "code",
   "execution_count": 1,
   "id": "69a54c4c",
   "metadata": {},
   "outputs": [],
   "source": [
    "import os\n",
    "import cv2\n",
    "import numpy as np\n",
    "from PIL import Image\n",
    "import matplotlib.pyplot as plt\n",
    "from sklearn.model_selection import train_test_split\n",
    "\n",
    "os.environ['TF_CPP_MIN_LOG_LEVEL'] = '3' \n",
    "from tensorflow.keras.utils import to_categorical\n",
    "from tensorflow.keras.applications.vgg19 import VGG19\n",
    "from tensorflow.keras.applications.vgg19 import preprocess_input\n",
    "from tensorflow.keras import layers, models\n",
    "from tensorflow.keras.callbacks import EarlyStopping\n",
    "import tensorflow as tf\n",
    "from sklearn.metrics import accuracy_score, precision_score, recall_score, f1_score"
   ]
  },
  {
   "cell_type": "markdown",
   "id": "905e50ba",
   "metadata": {},
   "source": [
    "# **Data loading and exploration**"
   ]
  },
  {
   "cell_type": "code",
   "execution_count": 2,
   "id": "c7c21af5",
   "metadata": {},
   "outputs": [
    {
     "name": "stdout",
     "output_type": "stream",
     "text": [
      "List of categories =  ['closed', 'open'] \n",
      "\n",
      "No. of categories =  2\n"
     ]
    }
   ],
   "source": [
    "fpath = '../Dataset'\n",
    "random_seed = 9\n",
    "\n",
    "categories = os.listdir(fpath)\n",
    "print(\"List of categories = \",categories,\"\\n\\nNo. of categories = \", len(categories))"
   ]
  },
  {
   "cell_type": "code",
   "execution_count": 3,
   "id": "78771b3c",
   "metadata": {},
   "outputs": [
    {
     "name": "stdout",
     "output_type": "stream",
     "text": [
      "No. of images loaded =  2422 \n",
      "No. of labels loaded =  2422\n",
      "<class 'list'> <class 'list'>\n"
     ]
    }
   ],
   "source": [
    "def load_images_and_labels(categories):\n",
    "    img_lst=[]\n",
    "    labels=[]\n",
    "    for index, category in enumerate(categories):\n",
    "        for image_name in os.listdir(fpath+\"/\"+category):\n",
    "            img = cv2.imread(fpath+\"/\"+category+\"/\"+image_name)\n",
    "            img = cv2.cvtColor(img, cv2.COLOR_BGR2RGB)\n",
    "            \n",
    "            img_array = Image.fromarray(img, 'RGB')\n",
    "            \n",
    "            img_lst.append(np.array(img_array))\n",
    "            \n",
    "            labels.append(index)\n",
    "    return img_lst, labels\n",
    "\n",
    "images, labels = load_images_and_labels(categories)\n",
    "print(\"No. of images loaded = \",len(images),\"\\nNo. of labels loaded = \",len(labels))\n",
    "print(type(images),type(labels))"
   ]
  },
  {
   "cell_type": "code",
   "execution_count": 4,
   "id": "c2a5168a",
   "metadata": {},
   "outputs": [
    {
     "name": "stdout",
     "output_type": "stream",
     "text": [
      "Images shape =  (2422, 24, 24, 3) \n",
      "Labels shape =  (2422,)\n",
      "<class 'numpy.ndarray'> <class 'numpy.ndarray'>\n"
     ]
    }
   ],
   "source": [
    "images = np.array(images)\n",
    "labels = np.array(labels)\n",
    "\n",
    "print(\"Images shape = \",images.shape,\"\\nLabels shape = \",labels.shape)\n",
    "print(type(images),type(labels))"
   ]
  },
  {
   "cell_type": "code",
   "execution_count": 5,
   "id": "46715035",
   "metadata": {},
   "outputs": [
    {
     "data": {
      "image/png": "[encoded data removed]",
      "text/plain": [
       "<Figure size 1368x720 with 9 Axes>"
      ]
     },
     "metadata": {},
     "output_type": "display_data"
    }
   ],
   "source": [
    "def display_rand_images(images, labels):\n",
    "    plt.figure(1 , figsize = (19 , 10))\n",
    "    n = 0 \n",
    "    for i in range(9):\n",
    "        n += 1 \n",
    "        r = np.random.randint(0 , images.shape[0] , 1)\n",
    "        \n",
    "        plt.subplot(3 , 3 , n)\n",
    "        plt.subplots_adjust(hspace = 0.3 , wspace = 0.3)\n",
    "        plt.imshow(images[r[0]])\n",
    "        \n",
    "        plt.title('Eyes : {}'.format(labels[r[0]]))\n",
    "        plt.xticks([])\n",
    "        plt.yticks([])\n",
    "        \n",
    "    plt.show()\n",
    "    \n",
    "display_rand_images(images, labels)\n"
   ]
  },
  {
   "cell_type": "markdown",
   "id": "1a7f7c39",
   "metadata": {},
   "source": [
    "# **Prepare data for training the CNN model**"
   ]
  },
  {
   "cell_type": "code",
   "execution_count": 6,
   "id": "7c1745cf",
   "metadata": {},
   "outputs": [
    {
     "name": "stdout",
     "output_type": "stream",
     "text": [
      "'n' values before shuffling =  [   0    1    2 ... 2419 2420 2421]\n",
      "\n",
      "'n' values after shuffling =  [ 737 2294  456 ...  501  348  382]\n"
     ]
    }
   ],
   "source": [
    "#1-step in data shuffling\n",
    "\n",
    "#get equally spaced numbers in a given range\n",
    "n = np.arange(images.shape[0])\n",
    "print(\"'n' values before shuffling = \",n)\n",
    "\n",
    "#shuffle all the equally spaced values in list 'n'\n",
    "np.random.seed(random_seed)\n",
    "np.random.shuffle(n)\n",
    "print(\"\\n'n' values after shuffling = \",n)"
   ]
  },
  {
   "cell_type": "code",
   "execution_count": 7,
   "id": "86a483f9",
   "metadata": {},
   "outputs": [
    {
     "name": "stdout",
     "output_type": "stream",
     "text": [
      "Images shape after shuffling =  (2422, 24, 24, 3) \n",
      "Labels shape after shuffling =  (2422,)\n"
     ]
    }
   ],
   "source": [
    "#2-step in data shuffling\n",
    "\n",
    "#shuffle images and corresponding labels data in both the lists\n",
    "images = images[n]\n",
    "labels = labels[n]\n",
    "\n",
    "print(\"Images shape after shuffling = \",images.shape,\"\\nLabels shape after shuffling = \",labels.shape)"
   ]
  },
  {
   "cell_type": "code",
   "execution_count": 8,
   "id": "34fe30b3",
   "metadata": {},
   "outputs": [
    {
     "name": "stdout",
     "output_type": "stream",
     "text": [
      "Images shape after normalization =  (2422, 24, 24, 3)\n"
     ]
    }
   ],
   "source": [
    "images = images.astype(np.float32)\n",
    "labels = labels.astype(np.int32)\n",
    "images = images/255\n",
    "print(\"Images shape after normalization = \",images.shape)"
   ]
  },
  {
   "cell_type": "code",
   "execution_count": 9,
   "id": "d4d3137b",
   "metadata": {},
   "outputs": [
    {
     "data": {
      "image/png": "[encoded data removed]",
      "text/plain": [
       "<Figure size 1368x720 with 9 Axes>"
      ]
     },
     "metadata": {},
     "output_type": "display_data"
    }
   ],
   "source": [
    "display_rand_images(images, labels)"
   ]
  },
  {
   "cell_type": "code",
   "execution_count": 10,
   "id": "54aec4f1",
   "metadata": {},
   "outputs": [
    {
     "name": "stdout",
     "output_type": "stream",
     "text": [
      "train_ds shape =  (1937, 24, 24, 3)\n",
      "train_labels shape =  (1937,)\n",
      "\n",
      "test_ds shape =  (485, 24, 24, 3)\n",
      "test_labels shape =  (485,)\n"
     ]
    }
   ],
   "source": [
    "train_ds, test_ds, train_labels, test_labels = train_test_split(images, labels, test_size = 0.2, random_state = random_seed)\n",
    "\n",
    "print(\"train_ds shape = \",train_ds.shape)\n",
    "print(\"train_labels shape = \",train_labels.shape)\n",
    "print(\"\\ntest_ds shape = \",test_ds.shape)\n",
    "print(\"test_labels shape = \",test_labels.shape)"
   ]
  },
  {
   "cell_type": "code",
   "execution_count": 11,
   "id": "c8a7e1d8",
   "metadata": {},
   "outputs": [
    {
     "data": {
      "image/png": "[encoded data removed]",
      "text/plain": [
       "<Figure size 1368x720 with 9 Axes>"
      ]
     },
     "metadata": {},
     "output_type": "display_data"
    }
   ],
   "source": [
    "display_rand_images(train_ds, train_labels)"
   ]
  },
  {
   "cell_type": "code",
   "execution_count": 12,
   "id": "bb4016b6",
   "metadata": {},
   "outputs": [],
   "source": [
    "## Resizing images\n",
    "train_ds = tf.image.resize(train_ds, (150, 150))\n",
    "test_ds = tf.image.resize(test_ds, (150, 150))"
   ]
  },
  {
   "cell_type": "markdown",
   "id": "080e0b0a",
   "metadata": {},
   "source": [
    "# **Define CNN model**"
   ]
  },
  {
   "cell_type": "code",
   "execution_count": 13,
   "id": "7bfe9579",
   "metadata": {},
   "outputs": [],
   "source": [
    "## Loading VGG19 model\n",
    "base_model = VGG19(weights=\"imagenet\", include_top=False, input_shape=train_ds[0].shape)\n",
    "base_model.trainable = False ## Not trainable weights\n",
    "\n",
    "## Preprocessing input\n",
    "train_ds = preprocess_input(train_ds) \n",
    "test_ds = preprocess_input(test_ds)"
   ]
  },
  {
   "cell_type": "code",
   "execution_count": 14,
   "id": "3362718b",
   "metadata": {
    "scrolled": true
   },
   "outputs": [
    {
     "name": "stdout",
     "output_type": "stream",
     "text": [
      "Model: \"vgg19\"\n",
      "_________________________________________________________________\n",
      " Layer (type)                Output Shape              Param #   \n",
      "=================================================================\n",
      " input_1 (InputLayer)        [(None, 150, 150, 3)]     0         \n",
      "                                                                 \n",
      " block1_conv1 (Conv2D)       (None, 150, 150, 64)      1792      \n",
      "                                                                 \n",
      " block1_conv2 (Conv2D)       (None, 150, 150, 64)      36928     \n",
      "                                                                 \n",
      " block1_pool (MaxPooling2D)  (None, 75, 75, 64)        0         \n",
      "                                                                 \n",
      " block2_conv1 (Conv2D)       (None, 75, 75, 128)       73856     \n",
      "                                                                 \n",
      " block2_conv2 (Conv2D)       (None, 75, 75, 128)       147584    \n",
      "                                                                 \n",
      " block2_pool (MaxPooling2D)  (None, 37, 37, 128)       0         \n",
      "                                                                 \n",
      " block3_conv1 (Conv2D)       (None, 37, 37, 256)       295168    \n",
      "                                                                 \n",
      " block3_conv2 (Conv2D)       (None, 37, 37, 256)       590080    \n",
      "                                                                 \n",
      " block3_conv3 (Conv2D)       (None, 37, 37, 256)       590080    \n",
      "                                                                 \n",
      " block3_conv4 (Conv2D)       (None, 37, 37, 256)       590080    \n",
      "                                                                 \n",
      " block3_pool (MaxPooling2D)  (None, 18, 18, 256)       0         \n",
      "                                                                 \n",
      " block4_conv1 (Conv2D)       (None, 18, 18, 512)       1180160   \n",
      "                                                                 \n",
      " block4_conv2 (Conv2D)       (None, 18, 18, 512)       2359808   \n",
      "                                                                 \n",
      " block4_conv3 (Conv2D)       (None, 18, 18, 512)       2359808   \n",
      "                                                                 \n",
      " block4_conv4 (Conv2D)       (None, 18, 18, 512)       2359808   \n",
      "                                                                 \n",
      " block4_pool (MaxPooling2D)  (None, 9, 9, 512)         0         \n",
      "                                                                 \n",
      " block5_conv1 (Conv2D)       (None, 9, 9, 512)         2359808   \n",
      "                                                                 \n",
      " block5_conv2 (Conv2D)       (None, 9, 9, 512)         2359808   \n",
      "                                                                 \n",
      " block5_conv3 (Conv2D)       (None, 9, 9, 512)         2359808   \n",
      "                                                                 \n",
      " block5_conv4 (Conv2D)       (None, 9, 9, 512)         2359808   \n",
      "                                                                 \n",
      " block5_pool (MaxPooling2D)  (None, 4, 4, 512)         0         \n",
      "                                                                 \n",
      "=================================================================\n",
      "Total params: 20,024,384\n",
      "Trainable params: 0\n",
      "Non-trainable params: 20,024,384\n",
      "_________________________________________________________________\n"
     ]
    }
   ],
   "source": [
    "base_model.summary()"
   ]
  },
  {
   "cell_type": "code",
   "execution_count": 15,
   "id": "e8eccd5d",
   "metadata": {},
   "outputs": [],
   "source": [
    "flatten_layer = layers.Flatten()\n",
    "dense_layer_1 = layers.Dense(50, activation='relu')\n",
    "dense_layer_2 = layers.Dense(20, activation='relu')\n",
    "prediction_layer = layers.Dense(5, activation='sigmoid')\n",
    "\n",
    "\n",
    "model = models.Sequential([\n",
    "    base_model,\n",
    "    flatten_layer,\n",
    "    dense_layer_1,\n",
    "    dense_layer_2,\n",
    "    prediction_layer\n",
    "])"
   ]
  },
  {
   "cell_type": "markdown",
   "id": "c0376bef",
   "metadata": {},
   "source": [
    "# **Train model**"
   ]
  },
  {
   "cell_type": "code",
   "execution_count": 16,
   "id": "4c27cd81",
   "metadata": {},
   "outputs": [
    {
     "name": "stdout",
     "output_type": "stream",
     "text": [
      "Epoch 1/50\n",
      "49/49 [==============================] - 209s 4s/step - loss: 0.7997 - accuracy: 0.4842 - val_loss: 0.6985 - val_accuracy: 0.4691\n",
      "Epoch 2/50\n",
      "49/49 [==============================] - 208s 4s/step - loss: 0.6945 - accuracy: 0.5074 - val_loss: 0.6952 - val_accuracy: 0.4691\n",
      "Epoch 3/50\n",
      "49/49 [==============================] - 208s 4s/step - loss: 0.6948 - accuracy: 0.4803 - val_loss: 0.6929 - val_accuracy: 0.5309\n",
      "Epoch 4/50\n",
      "49/49 [==============================] - 210s 4s/step - loss: 0.6941 - accuracy: 0.4906 - val_loss: 0.6929 - val_accuracy: 0.5309\n",
      "Epoch 5/50\n",
      "49/49 [==============================] - 211s 4s/step - loss: 0.6950 - accuracy: 0.4945 - val_loss: 0.6957 - val_accuracy: 0.4691\n",
      "Epoch 6/50\n",
      "49/49 [==============================] - 207s 4s/step - loss: 0.6953 - accuracy: 0.4790 - val_loss: 0.6930 - val_accuracy: 0.5309\n",
      "Epoch 7/50\n",
      "49/49 [==============================] - 207s 4s/step - loss: 0.6946 - accuracy: 0.5029 - val_loss: 0.6962 - val_accuracy: 0.4691\n",
      "Epoch 8/50\n",
      "49/49 [==============================] - 210s 4s/step - loss: 0.6956 - accuracy: 0.4751 - val_loss: 0.6923 - val_accuracy: 0.5309\n",
      "Epoch 9/50\n",
      "49/49 [==============================] - 211s 4s/step - loss: 0.6937 - accuracy: 0.4971 - val_loss: 0.6912 - val_accuracy: 0.5309\n",
      "Epoch 10/50\n",
      "49/49 [==============================] - 208s 4s/step - loss: 0.6934 - accuracy: 0.5055 - val_loss: 0.6943 - val_accuracy: 0.4691\n",
      "Epoch 11/50\n",
      "49/49 [==============================] - 205s 4s/step - loss: 0.6944 - accuracy: 0.4932 - val_loss: 0.6941 - val_accuracy: 0.4691\n",
      "Epoch 12/50\n",
      "49/49 [==============================] - 207s 4s/step - loss: 0.6945 - accuracy: 0.4874 - val_loss: 0.6934 - val_accuracy: 0.4691\n",
      "Epoch 13/50\n",
      "49/49 [==============================] - 205s 4s/step - loss: 0.6945 - accuracy: 0.5055 - val_loss: 0.6946 - val_accuracy: 0.4691\n",
      "Epoch 14/50\n",
      "49/49 [==============================] - 205s 4s/step - loss: 0.6941 - accuracy: 0.4816 - val_loss: 0.6916 - val_accuracy: 0.5309\n",
      "Epoch 15/50\n",
      "49/49 [==============================] - 206s 4s/step - loss: 0.6938 - accuracy: 0.4984 - val_loss: 0.6910 - val_accuracy: 0.5309\n",
      "Epoch 16/50\n",
      "49/49 [==============================] - 204s 4s/step - loss: 0.6967 - accuracy: 0.4829 - val_loss: 0.6952 - val_accuracy: 0.4691\n",
      "Epoch 17/50\n",
      "49/49 [==============================] - 205s 4s/step - loss: 0.6943 - accuracy: 0.5023 - val_loss: 0.6955 - val_accuracy: 0.4691\n",
      "Epoch 18/50\n",
      "49/49 [==============================] - 206s 4s/step - loss: 0.6934 - accuracy: 0.5048 - val_loss: 0.6913 - val_accuracy: 0.5309\n",
      "Epoch 19/50\n",
      "49/49 [==============================] - 206s 4s/step - loss: 0.6948 - accuracy: 0.4958 - val_loss: 0.6926 - val_accuracy: 0.5309\n",
      "Epoch 20/50\n",
      "49/49 [==============================] - 206s 4s/step - loss: 0.6951 - accuracy: 0.4977 - val_loss: 0.6958 - val_accuracy: 0.4691\n",
      "Epoch 21/50\n",
      "49/49 [==============================] - 206s 4s/step - loss: 0.6931 - accuracy: 0.5074 - val_loss: 0.6913 - val_accuracy: 0.5309\n",
      "Epoch 22/50\n",
      "49/49 [==============================] - 206s 4s/step - loss: 0.6950 - accuracy: 0.5048 - val_loss: 0.6919 - val_accuracy: 0.5309\n",
      "Epoch 23/50\n",
      "49/49 [==============================] - 206s 4s/step - loss: 0.6937 - accuracy: 0.5016 - val_loss: 0.6916 - val_accuracy: 0.5309\n",
      "Epoch 24/50\n",
      "49/49 [==============================] - 206s 4s/step - loss: 0.6946 - accuracy: 0.4868 - val_loss: 0.6916 - val_accuracy: 0.5309\n",
      "Epoch 25/50\n",
      "49/49 [==============================] - 206s 4s/step - loss: 0.6938 - accuracy: 0.4977 - val_loss: 0.6917 - val_accuracy: 0.5309\n",
      "Epoch 26/50\n",
      "49/49 [==============================] - 206s 4s/step - loss: 0.6943 - accuracy: 0.4945 - val_loss: 0.6923 - val_accuracy: 0.5309\n",
      "Epoch 27/50\n",
      "49/49 [==============================] - 205s 4s/step - loss: 0.6941 - accuracy: 0.5016 - val_loss: 0.6911 - val_accuracy: 0.5309\n",
      "Epoch 28/50\n",
      "49/49 [==============================] - 206s 4s/step - loss: 0.6943 - accuracy: 0.4913 - val_loss: 0.6912 - val_accuracy: 0.5309\n",
      "Epoch 29/50\n",
      "49/49 [==============================] - 206s 4s/step - loss: 0.6952 - accuracy: 0.4861 - val_loss: 0.6912 - val_accuracy: 0.5309\n",
      "Epoch 30/50\n",
      "49/49 [==============================] - 206s 4s/step - loss: 0.6939 - accuracy: 0.4900 - val_loss: 0.6911 - val_accuracy: 0.5309\n",
      "Epoch 31/50\n",
      "49/49 [==============================] - 206s 4s/step - loss: 0.6933 - accuracy: 0.5107 - val_loss: 0.6925 - val_accuracy: 0.5309\n",
      "Epoch 32/50\n",
      "49/49 [==============================] - 205s 4s/step - loss: 0.6937 - accuracy: 0.5042 - val_loss: 0.6930 - val_accuracy: 0.4691\n",
      "Epoch 33/50\n",
      "49/49 [==============================] - 204s 4s/step - loss: 0.6951 - accuracy: 0.4893 - val_loss: 0.6911 - val_accuracy: 0.5309\n",
      "Epoch 34/50\n",
      "49/49 [==============================] - 208s 4s/step - loss: 0.6939 - accuracy: 0.4958 - val_loss: 0.6920 - val_accuracy: 0.5309\n",
      "Epoch 35/50\n",
      "49/49 [==============================] - 205s 4s/step - loss: 0.6938 - accuracy: 0.4990 - val_loss: 0.6962 - val_accuracy: 0.4691\n",
      "Epoch 36/50\n",
      "49/49 [==============================] - 206s 4s/step - loss: 0.6935 - accuracy: 0.5048 - val_loss: 0.6909 - val_accuracy: 0.5309\n",
      "Epoch 37/50\n",
      "49/49 [==============================] - 205s 4s/step - loss: 0.6939 - accuracy: 0.5010 - val_loss: 0.6925 - val_accuracy: 0.5309\n",
      "Epoch 38/50\n",
      "49/49 [==============================] - 205s 4s/step - loss: 0.6938 - accuracy: 0.5029 - val_loss: 0.6956 - val_accuracy: 0.4691\n",
      "Epoch 39/50\n",
      "49/49 [==============================] - 206s 4s/step - loss: 0.6935 - accuracy: 0.5016 - val_loss: 0.6979 - val_accuracy: 0.4691\n",
      "Epoch 40/50\n",
      "49/49 [==============================] - 205s 4s/step - loss: 0.6939 - accuracy: 0.5016 - val_loss: 0.6916 - val_accuracy: 0.5309\n",
      "Epoch 41/50\n",
      "49/49 [==============================] - 174s 4s/step - loss: 0.6932 - accuracy: 0.5010 - val_loss: 0.6909 - val_accuracy: 0.5309\n",
      "Epoch 42/50\n",
      "49/49 [==============================] - 104s 2s/step - loss: 0.6949 - accuracy: 0.4803 - val_loss: 0.6913 - val_accuracy: 0.5309\n",
      "Epoch 43/50\n",
      "49/49 [==============================] - 103s 2s/step - loss: 0.6930 - accuracy: 0.5107 - val_loss: 0.6919 - val_accuracy: 0.5309\n",
      "Epoch 44/50\n",
      "49/49 [==============================] - 104s 2s/step - loss: 0.6932 - accuracy: 0.4932 - val_loss: 0.6925 - val_accuracy: 0.4794\n",
      "Epoch 45/50\n",
      "49/49 [==============================] - 103s 2s/step - loss: 0.6945 - accuracy: 0.5074 - val_loss: 0.6916 - val_accuracy: 0.5309\n",
      "Epoch 46/50\n",
      "49/49 [==============================] - 104s 2s/step - loss: 0.6989 - accuracy: 0.4803 - val_loss: 0.6916 - val_accuracy: 0.5309\n",
      "Epoch 47/50\n",
      "49/49 [==============================] - 103s 2s/step - loss: 0.6937 - accuracy: 0.4990 - val_loss: 0.6938 - val_accuracy: 0.4691\n",
      "Epoch 48/50\n",
      "49/49 [==============================] - 104s 2s/step - loss: 0.6923 - accuracy: 0.5190 - val_loss: 0.6906 - val_accuracy: 0.5309\n",
      "Epoch 49/50\n",
      "49/49 [==============================] - 103s 2s/step - loss: 0.6953 - accuracy: 0.4784 - val_loss: 0.6908 - val_accuracy: 0.5309\n",
      "Epoch 50/50\n",
      "49/49 [==============================] - 104s 2s/step - loss: 0.6959 - accuracy: 0.5100 - val_loss: 0.6958 - val_accuracy: 0.4691\n",
      "CPU times: total: 16h 27min 34s\n",
      "Wall time: 2h 36min 6s\n"
     ]
    }
   ],
   "source": [
    "%%time\n",
    "\n",
    "model.compile(\n",
    "    optimizer='adam',\n",
    "    loss='sparse_categorical_crossentropy',\n",
    "    metrics=['accuracy'],\n",
    ")\n",
    "\n",
    "history = model.fit(train_ds, train_labels, epochs=50, validation_split=0.2, batch_size=32)"
   ]
  },
  {
   "cell_type": "code",
   "execution_count": 17,
   "id": "1c90a5f7",
   "metadata": {},
   "outputs": [
    {
     "name": "stdout",
     "output_type": "stream",
     "text": [
      "Saved model to disk\n"
     ]
    }
   ],
   "source": [
    "model_json = model.to_json()\n",
    "with open(\"VGG19_Eyes_Classifier.json\", \"w\") as json_file:\n",
    "    json_file.write(model_json)\n",
    "model.save(\"VGG19_Eyes_Classifier.h5\")\n",
    "print(\"Saved model to disk\")\n",
    "model.save_weights(\"VGG19_Eyes.h5\")"
   ]
  },
  {
   "cell_type": "code",
   "execution_count": 18,
   "id": "e71cca76",
   "metadata": {},
   "outputs": [
    {
     "name": "stdout",
     "output_type": "stream",
     "text": [
      "> 50.93\n"
     ]
    }
   ],
   "source": [
    "_, acc = model.evaluate(test_ds, test_labels, verbose=0)\n",
    "\n",
    "print('> %.2f' % (acc * 100.0))"
   ]
  },
  {
   "cell_type": "code",
   "execution_count": 19,
   "id": "8d2607a8",
   "metadata": {},
   "outputs": [
    {
     "name": "stdout",
     "output_type": "stream",
     "text": [
      "Accuracy: 50.93\n",
      "F1 score: 34.37\n",
      "Precision: 25.94\n",
      "Recall: 50.93\n"
     ]
    },
    {
     "name": "stderr",
     "output_type": "stream",
     "text": [
      "C:\\Users\\pined\\Anaconda3\\lib\\site-packages\\sklearn\\metrics\\_classification.py:1318: UndefinedMetricWarning: Precision is ill-defined and being set to 0.0 in labels with no predicted samples. Use `zero_division` parameter to control this behavior.\n",
      "  _warn_prf(average, modifier, msg_start, len(result))\n"
     ]
    }
   ],
   "source": [
    "model_probs = model.predict(test_ds, verbose=0)\n",
    "y_pred = model_probs\n",
    "# predict crisp classes for test set\n",
    "model_classes = np.argmax(model_probs,axis=1)\n",
    "# reduce to 1d array\n",
    "model_probs = model_probs[:, 0]\n",
    " \n",
    "# accuracy: (tp + tn) / (p + n)\n",
    "accuracy = accuracy_score(test_labels, model_classes)*100\n",
    "# precision tp / (tp + fp)\n",
    "precision = precision_score(test_labels, model_classes, average='weighted')*100\n",
    "# recall: tp / (tp + fn)\n",
    "recall = recall_score(test_labels, model_classes, average='weighted')*100\n",
    "# f1: 2 tp / (2 tp + fp + fn)\n",
    "f1 = f1_score(test_labels, model_classes, average='weighted')*100\n",
    "\n",
    "print('Accuracy: %.2f' % accuracy)\n",
    "print('F1 score: %.2f' % f1)\n",
    "print('Precision: %.2f' % precision)\n",
    "print('Recall: %.2f' % recall)"
   ]
  },
  {
   "cell_type": "code",
   "execution_count": 20,
   "id": "b8f6dbb0",
   "metadata": {},
   "outputs": [
    {
     "data": {
      "image/png": "[encoded data removed]",
      "text/plain": [
       "<Figure size 432x288 with 1 Axes>"
      ]
     },
     "metadata": {
      "needs_background": "light"
     },
     "output_type": "display_data"
    },
    {
     "data": {
      "text/plain": [
       "<Figure size 432x288 with 0 Axes>"
      ]
     },
     "metadata": {},
     "output_type": "display_data"
    }
   ],
   "source": [
    "accuracy = history.history['accuracy']\n",
    "validation_accuracy = history.history['val_accuracy']\n",
    "epochs = range(len(accuracy))\n",
    "plt.plot(epochs, accuracy, 'r', label='Training accuracy')\n",
    "plt.plot(epochs, validation_accuracy, 'b', label='Validation accuracy')\n",
    "plt.title('Training and validation accuracy')\n",
    "plt.legend(loc=0)\n",
    "plt.figure()\n",
    "plt.show()"
   ]
  },
  {
   "cell_type": "code",
   "execution_count": 21,
   "id": "fd4b9572",
   "metadata": {},
   "outputs": [
    {
     "data": {
      "text/plain": [
       "array([[1., 1., 0., 0., 0.],\n",
       "       [1., 1., 0., 0., 0.],\n",
       "       [1., 1., 0., 0., 0.],\n",
       "       ...,\n",
       "       [1., 1., 0., 0., 0.],\n",
       "       [1., 1., 0., 0., 0.],\n",
       "       [1., 1., 0., 0., 0.]], dtype=float32)"
      ]
     },
     "execution_count": 21,
     "metadata": {},
     "output_type": "execute_result"
    }
   ],
   "source": [
    "y_pred.round()"
   ]
  },
  {
   "cell_type": "code",
   "execution_count": 26,
   "id": "11b7e4bb",
   "metadata": {},
   "outputs": [
    {
     "data": {
      "text/plain": [
       "array([0, 0, 0, 0, 0, 0, 0, 0, 0, 0, 0, 0, 0, 0, 0, 0, 0, 0, 0, 0, 0, 0,\n",
       "       0, 0, 0, 0, 0, 0, 0, 0, 0, 0, 0, 0, 0, 0, 0, 0, 0, 0, 0, 0, 0, 0,\n",
       "       0, 0, 0, 0, 0, 0, 0, 0, 0, 0, 0, 0, 0, 0, 0, 0, 0, 0, 0, 0, 0, 0,\n",
       "       0, 0, 0, 0, 0, 0, 0, 0, 0, 0, 0, 0, 0, 0, 0, 0, 0, 0, 0, 0, 0, 0,\n",
       "       0, 0, 0, 0, 0, 0, 0, 0, 0, 0, 0, 0, 0, 0, 0, 0, 0, 0, 0, 0, 0, 0,\n",
       "       0, 0, 0, 0, 0, 0, 0, 0, 0, 0, 0, 0, 0, 0, 0, 0, 0, 0, 0, 0, 0, 0,\n",
       "       0, 0, 0, 0, 0, 0, 0, 0, 0, 0, 0, 0, 0, 0, 0, 0, 0, 0, 0, 0, 0, 0,\n",
       "       0, 0, 0, 0, 0, 0, 0, 0, 0, 0, 0, 0, 0, 0, 0, 0, 0, 0, 0, 0, 0, 0,\n",
       "       0, 0, 0, 0, 0, 0, 0, 0, 0, 0, 0, 0, 0, 0, 0, 0, 0, 0, 0, 0, 0, 0,\n",
       "       0, 0, 0, 0, 0, 0, 0, 0, 0, 0, 0, 0, 0, 0, 0, 0, 0, 0, 0, 0, 0, 0,\n",
       "       0, 0, 0, 0, 0, 0, 0, 0, 0, 0, 0, 0, 0, 0, 0, 0, 0, 0, 0, 0, 0, 0,\n",
       "       0, 0, 0, 0, 0, 0, 0, 0, 0, 0, 0, 0, 0, 0, 0, 0, 0, 0, 0, 0, 0, 0,\n",
       "       0, 0, 0, 0, 0, 0, 0, 0, 0, 0, 0, 0, 0, 0, 0, 0, 0, 0, 0, 0, 0, 0,\n",
       "       0, 0, 0, 0, 0, 0, 0, 0, 0, 0, 0, 0, 0, 0, 0, 0, 0, 0, 0, 0, 0, 0,\n",
       "       0, 0, 0, 0, 0, 0, 0, 0, 0, 0, 0, 0, 0, 0, 0, 0, 0, 0, 0, 0, 0, 0,\n",
       "       0, 0, 0, 0, 0, 0, 0, 0, 0, 0, 0, 0, 0, 0, 0, 0, 0, 0, 0, 0, 0, 0,\n",
       "       0, 0, 0, 0, 0, 0, 0, 0, 0, 0, 0, 0, 0, 0, 0, 0, 0, 0, 0, 0, 0, 0,\n",
       "       0, 0, 0, 0, 0, 0, 0, 0, 0, 0, 0, 0, 0, 0, 0, 0, 0, 0, 0, 0, 0, 0,\n",
       "       0, 0, 0, 0, 0, 0, 0, 0, 0, 0, 0, 0, 0, 0, 0, 0, 0, 0, 0, 0, 0, 0,\n",
       "       0, 0, 0, 0, 0, 0, 0, 0, 0, 0, 0, 0, 0, 0, 0, 0, 0, 0, 0, 0, 0, 0,\n",
       "       0, 0, 0, 0, 0, 0, 0, 0, 0, 0, 0, 0, 0, 0, 0, 0, 0, 0, 0, 0, 0, 0,\n",
       "       0, 0, 0, 0, 0, 0, 0, 0, 0, 0, 0, 0, 0, 0, 0, 0, 0, 0, 0, 0, 0, 0,\n",
       "       0], dtype=int64)"
      ]
     },
     "execution_count": 26,
     "metadata": {},
     "output_type": "execute_result"
    }
   ],
   "source": [
    "Y_pred_classes = np.argmax(y_pred,axis = 1) \n",
    "Y_pred_classes"
   ]
  },
  {
   "cell_type": "code",
   "execution_count": 28,
   "id": "0210f795",
   "metadata": {},
   "outputs": [
    {
     "name": "stdout",
     "output_type": "stream",
     "text": [
      "Confusion Matrix\n",
      "\n",
      "[[247   0]\n",
      " [238   0]]\n"
     ]
    }
   ],
   "source": [
    "from sklearn.metrics import confusion_matrix\n",
    "confusion = confusion_matrix(test_labels,Y_pred_classes)\n",
    "print('Confusion Matrix\\n')\n",
    "print(confusion)"
   ]
  },
  {
   "cell_type": "code",
   "execution_count": 29,
   "id": "14df7837",
   "metadata": {},
   "outputs": [
    {
     "data": {
      "image/png": "[encoded data removed]",
      "text/plain": [
       "<Figure size 504x360 with 2 Axes>"
      ]
     },
     "metadata": {
      "needs_background": "light"
     },
     "output_type": "display_data"
    }
   ],
   "source": [
    "import seaborn as sns\n",
    "plt.figure(figsize=(7, 5))\n",
    "\n",
    "sns.heatmap(confusion, annot=True,  annot_kws={'size': 15}, fmt = \"d\")\n",
    "plt.show()"
   ]
  }
 ],
 "metadata": {
  "kernelspec": {
   "display_name": "Python 3 (ipykernel)",
   "language": "python",
   "name": "python3"
  },
  "language_info": {
   "codemirror_mode": {
    "name": "ipython",
    "version": 3
   },
   "file_extension": ".py",
   "mimetype": "text/x-python",
   "name": "python",
   "nbconvert_exporter": "python",
   "pygments_lexer": "ipython3",
   "version": "3.9.12"
  }
 },
 "nbformat": 4,
 "nbformat_minor": 5
}
